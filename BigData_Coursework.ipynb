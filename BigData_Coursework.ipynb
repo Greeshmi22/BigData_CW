{
 "cells": [
  {
   "cell_type": "markdown",
   "id": "f5a17943-d2c8-4a04-abe9-abae7204ffaf",
   "metadata": {},
   "source": [
    "## Title     : Extended MapReduce with Business Insights\n",
    "## Module    : Big Data and Cloud Computing Coursework - Task A\n",
    "## Name and Number : Greeshmi Appalapuram, 32822955"
   ]
  },
  {
   "cell_type": "code",
   "execution_count": 1,
   "id": "5add6548-67cd-4229-a07b-d7d53c30ac68",
   "metadata": {},
   "outputs": [],
   "source": [
    "# Importing libraries\n",
    "import csv\n",
    "from collections import defaultdict\n",
    "from concurrent.futures import ThreadPoolExecutor\n",
    "import os"
   ]
  },
  {
   "cell_type": "code",
   "execution_count": 2,
   "id": "5d44b9cc-2149-4f8f-b595-7bcfd6bd05d3",
   "metadata": {},
   "outputs": [],
   "source": [
    "# Function: map_function\n",
    "# Returns passenger_id\n",
    "def map_function(line):\n",
    "    passenger_id = line[0]\n",
    "    return (passenger_id, 1)"
   ]
  },
  {
   "cell_type": "code",
   "execution_count": 3,
   "id": "d7101714-13c7-4220-8346-0187e31b8387",
   "metadata": {},
   "outputs": [],
   "source": [
    "# Function: reduce_function\n",
    "# Returns flight counts per PassengerID\n",
    "\n",
    "def reduce_function(mapped_data):\n",
    "    flight_counts = defaultdict(int)\n",
    "    for passenger_id, count in mapped_data:\n",
    "        flight_counts[passenger_id] += count\n",
    "    return flight_counts\n"
   ]
  },
  {
   "cell_type": "code",
   "execution_count": 4,
   "id": "801b2243-47c1-4e4f-9de5-e33884c0a1c2",
   "metadata": {},
   "outputs": [],
   "source": [
    "# Function: classify_loyalty_tier\n",
    "# Classifies passengers into loyalty tiers based on flight counts\n",
    "\n",
    "def classify_loyalty_tier(flight_count):\n",
    "    if flight_count >= 20:\n",
    "        return \"Platinum\"\n",
    "    elif flight_count >= 15:\n",
    "        return \"Gold\"\n",
    "    elif flight_count >= 10:\n",
    "        return \"Silver\"\n",
    "    else:\n",
    "        return \"Bronze\""
   ]
  },
  {
   "cell_type": "code",
   "execution_count": 5,
   "id": "c268fe76-beb9-4146-8482-94d1bc27e7c3",
   "metadata": {},
   "outputs": [],
   "source": [
    "# Function: export_to_csv\n",
    "# Saves passenger insights to a CSV file for BI or ML usage\n",
    "\n",
    "def export_to_csv(flight_counts, output_filename):\n",
    "    with open(output_filename, mode='w', newline='') as file:\n",
    "        writer = csv.writer(file)\n",
    "        writer.writerow(['PassengerID', 'TotalFlights', 'LoyaltyTier'])\n",
    "        for passenger_id, count in sorted(flight_counts.items(), key=lambda x: x[1], reverse=True):\n",
    "            loyalty_tier = classify_loyalty_tier(count)\n",
    "            writer.writerow([passenger_id, count, loyalty_tier])\n",
    "    print(f\"\\n Exported insights to {output_filename}\")\n"
   ]
  },
  {
   "cell_type": "code",
   "execution_count": 6,
   "id": "b2b6fad7-cf22-4c3a-8ace-c9cce227f11c",
   "metadata": {},
   "outputs": [],
   "source": [
    "# Function: generate_insights\n",
    "# Prints business insights and exports results\n",
    "\n",
    "def generate_insights(flight_counts, dataset_name):\n",
    "    print(f\"\\n--- Enhanced Insights for {dataset_name} ---\")\n",
    "    sorted_counts = sorted(flight_counts.items(), key=lambda x: x[1], reverse=True)\n",
    "\n",
    "    total_passengers = len(sorted_counts)\n",
    "    total_flights = sum([count for _, count in sorted_counts])\n",
    "\n",
    "    # Top 5 Frequent Flyers\n",
    "    print(\"\\nTop 5 Frequent Flyers:\")\n",
    "    top_n = 5\n",
    "    top_flight_sum = 0\n",
    "    for i, (pid, count) in enumerate(sorted_counts[:top_n], start=1):\n",
    "        loyalty_tier = classify_loyalty_tier(count)\n",
    "        print(f\"{i}. Passenger ID: {pid}, Total Flights: {count}, Loyalty Tier: {loyalty_tier}\")\n",
    "        top_flight_sum += count\n",
    "\n",
    "    # Loyalty Tier Summary with Counts and Percentages\n",
    "    tier_summary = defaultdict(list)\n",
    "    for pid, count in sorted_counts:\n",
    "        tier_summary[classify_loyalty_tier(count)].append(count)\n",
    "\n",
    "    print(\"\\nLoyalty Tier Distribution with Percentages:\")\n",
    "    for tier, counts in tier_summary.items():\n",
    "        num_passengers = len(counts)\n",
    "        avg_flights = sum(counts) / num_passengers\n",
    "        percentage = (num_passengers / total_passengers) * 100\n",
    "        print(f\"{tier}: {num_passengers} passenger(s), {percentage:.2f}% of all passengers, Avg Flights: {avg_flights:.2f}\")\n",
    "\n",
    "    # Cumulative Contribution Insight (Pareto Analysis)\n",
    "    top_contribution_percent = (top_flight_sum / total_flights) * 100\n",
    "    print(f\"\\nCumulative Contribution of Top {top_n} Flyers: {top_contribution_percent:.2f}% of all flights\")\n",
    "\n",
    "    print(f\"\\nTotal Unique Passengers: {total_passengers}\")\n",
    "    print(f\"Total Flights Processed: {total_flights}\")\n",
    "\n",
    "    # Export to CSV for downstream ML or BI usage\n",
    "    export_to_csv(flight_counts, f\"{dataset_name}_PassengerInsights.csv\")\n"
   ]
  },
  {
   "cell_type": "code",
   "execution_count": 7,
   "id": "03413812-0adc-43aa-b06b-13f76959a793",
   "metadata": {},
   "outputs": [],
   "source": [
    "# Function: execute_mapreduce_with_insights\n",
    "# Runs MapReduce and generates insights\n",
    "def execute_mapreduce_with_insights(input_file):\n",
    "    mapped_data = []\n",
    "    try:\n",
    "        with open(input_file, 'r') as file:\n",
    "            reader = csv.reader(file)\n",
    "            next(reader)  # Skip header\n",
    "\n",
    "            with ThreadPoolExecutor() as executor:\n",
    "                results = executor.map(map_function, reader)\n",
    "                mapped_data.extend(results)\n",
    "\n",
    "        flight_counts = reduce_function(mapped_data)\n",
    "        generate_insights(flight_counts, os.path.splitext(os.path.basename(input_file))[0])\n",
    "\n",
    "    except FileNotFoundError:\n",
    "        print(f\"Error: The file '{input_file}' was not found.\")\n",
    "    except Exception as e:\n",
    "        print(f\"An error occurred while processing '{input_file}': {e}\")\n"
   ]
  },
  {
   "cell_type": "code",
   "execution_count": 8,
   "id": "cde2a254-58e9-43cf-a56b-9ad6c7ded7c6",
   "metadata": {},
   "outputs": [
    {
     "name": "stdout",
     "output_type": "stream",
     "text": [
      "\n",
      "------ Passenger Loyalty Profiling and Insights -------\n",
      "\n",
      " Processing file: C:\\Users\\agree\\AComp_Passenger_data_no_error.csv\n",
      "\n",
      "--- Enhanced Insights for AComp_Passenger_data_no_error ---\n",
      "\n",
      "Top 5 Frequent Flyers:\n",
      "1. Passenger ID: UES9151GS5, Total Flights: 24, Loyalty Tier: Platinum\n",
      "2. Passenger ID: PUD8209OG3, Total Flights: 23, Loyalty Tier: Platinum\n",
      "3. Passenger ID: BWI0520BG6, Total Flights: 23, Loyalty Tier: Platinum\n",
      "4. Passenger ID: DAZ3029XA0, Total Flights: 23, Loyalty Tier: Platinum\n",
      "5. Passenger ID: SPR4484HA6, Total Flights: 23, Loyalty Tier: Platinum\n",
      "\n",
      "Loyalty Tier Distribution with Percentages:\n",
      "Platinum: 8 passenger(s), 25.81% of all passengers, Avg Flights: 22.38\n",
      "Gold: 11 passenger(s), 35.48% of all passengers, Avg Flights: 17.36\n",
      "Silver: 10 passenger(s), 32.26% of all passengers, Avg Flights: 12.00\n",
      "Bronze: 2 passenger(s), 6.45% of all passengers, Avg Flights: 4.50\n",
      "\n",
      "Cumulative Contribution of Top 5 Flyers: 23.25% of all flights\n",
      "\n",
      "Total Unique Passengers: 31\n",
      "Total Flights Processed: 499\n",
      "\n",
      " Exported insights to AComp_Passenger_data_no_error_PassengerInsights.csv\n",
      "----Executed Successfully----\n",
      "\n"
     ]
    }
   ],
   "source": [
    "# Main Execution\n",
    "if __name__ == \"__main__\":\n",
    "    print(\"\\n------ Passenger Loyalty Profiling and Insights -------\\n\")\n",
    "\n",
    "    # All dataset\n",
    "    input_file = r\"C:\\Users\\agree\\AComp_Passenger_data_no_error.csv\"  # Mandatory dataset\n",
    "    # Optional: Uncomment below lines to test with validation files\n",
    "    # input_file = r\"C:\\Users\\agree\\AComp_Passenger_data.csv\"\n",
    "    # input_file = r\"C:\\Users\\agree\\AComp_Passenger_data_no_error_DateTime.csv\"\n",
    "\n",
    "    print(f\" Processing file: {input_file}\")\n",
    "    execute_mapreduce_with_insights(input_file)\n",
    "\n",
    "    print(\"----Executed Successfully----\\n\")"
   ]
  },
  {
   "cell_type": "markdown",
   "id": "bbb0ee54-e545-4912-b5fc-cc434e9f6c45",
   "metadata": {},
   "source": [
    "## References"
   ]
  },
  {
   "cell_type": "markdown",
   "id": "966bbc1f-23b0-45c1-9f92-08a48f7900b5",
   "metadata": {},
   "source": []
  },
  {
   "cell_type": "code",
   "execution_count": null,
   "id": "5c5a5e72-c1f4-429e-ae58-f70004b52754",
   "metadata": {},
   "outputs": [],
   "source": []
  }
 ],
 "metadata": {
  "kernelspec": {
   "display_name": "Python 3 (ipykernel)",
   "language": "python",
   "name": "python3"
  },
  "language_info": {
   "codemirror_mode": {
    "name": "ipython",
    "version": 3
   },
   "file_extension": ".py",
   "mimetype": "text/x-python",
   "name": "python",
   "nbconvert_exporter": "python",
   "pygments_lexer": "ipython3",
   "version": "3.11.7"
  }
 },
 "nbformat": 4,
 "nbformat_minor": 5
}
